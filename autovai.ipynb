{
  "nbformat": 4,
  "nbformat_minor": 0,
  "metadata": {
    "accelerator": "GPU",
    "colab": {
      "name": "autovai.ipynb",
      "provenance": [],
      "collapsed_sections": [],
      "authorship_tag": "ABX9TyP19tO2ov8looGnnZ3clJNg",
      "include_colab_link": true
    },
    "kernelspec": {
      "display_name": "Python 3",
      "name": "python3"
    }
  },
  "cells": [
    {
      "cell_type": "markdown",
      "metadata": {
        "id": "view-in-github",
        "colab_type": "text"
      },
      "source": [
        "<a href=\"https://colab.research.google.com/github/SofianeSofiane/AutoVAI/blob/main/autovai.ipynb\" target=\"_parent\"><img src=\"https://colab.research.google.com/assets/colab-badge.svg\" alt=\"Open In Colab\"/></a>"
      ]
    },
    {
      "cell_type": "code",
      "metadata": {
        "colab": {
          "base_uri": "https://localhost:8080/"
        },
        "id": "tBnJLD6abAP9",
        "outputId": "f53f67ab-f8d7-4398-e6bd-269ad1dbd294"
      },
      "source": [
        "\n",
        "from google.colab import drive\n",
        "drive.mount('/content/drive')"
      ],
      "execution_count": null,
      "outputs": [
        {
          "output_type": "stream",
          "text": [
            "Mounted at /content/drive\n"
          ],
          "name": "stdout"
        }
      ]
    },
    {
      "cell_type": "code",
      "metadata": {
        "colab": {
          "base_uri": "https://localhost:8080/"
        },
        "id": "PdTco-Q1p_UI",
        "outputId": "c2ac5ec2-ea7d-4fa4-a5f6-d8ef4076bc86"
      },
      "source": [
        "import os\n",
        " \n",
        "os.chdir(\"/content/drive/MyDrive\")\n",
        " \n",
        "Dataset='aug_data'\n",
        "Data_Dir=os.listdir(Dataset)\n",
        "print(Data_Dir)"
      ],
      "execution_count": null,
      "outputs": [
        {
          "output_type": "stream",
          "text": [
            "['aug_good', 'aug_defected']\n"
          ],
          "name": "stdout"
        }
      ]
    },
    {
      "cell_type": "code",
      "metadata": {
        "id": "-MtkwJza3ZW_"
      },
      "source": [
        "import cv2\n",
        "from google.colab.patches import cv2_imshow\n",
        "\n",
        " \n",
        "images = []\n",
        "labels=[]\n",
        "\n",
        "kernel= cv2.getStructuringElement(cv2.MORPH_RECT,(5,5))\n",
        "\n",
        "for category in Data_Dir:\n",
        "    folder_path = os.path.join(Dataset, category)\n",
        "    for img in os.listdir(folder_path):\n",
        "        img_path = os.path.join(folder_path, img)\n",
        "        img=cv2.imread(img_path)\n",
        " \n",
        "        grayscale_img=cv2.cvtColor(img,cv2.COLOR_BGR2GRAY)\n",
        "        resized_img=cv2.resize(grayscale_img,(250, 250))\n",
        "        denoise_img=cv2.fastNlMeansDenoising(resized_img) \n",
        "        ret,img=cv2.threshold(denoise_img,145,255,cv2.THRESH_BINARY_INV)\n",
        "\n",
        "        edges = cv2.Canny(img,145,255)\n",
        "        closing = cv2.morphologyEx(img, cv2.MORPH_CLOSE, kernel)\n",
        "\n",
        "        images.append(closing)\n",
        "        labels.append(category)\n"
      ],
      "execution_count": null,
      "outputs": []
    },
    {
      "cell_type": "code",
      "metadata": {
        "id": "ESOFlzpx8Q4X"
      },
      "source": [
        "import numpy as np\n",
        "images=np.array(images)\n",
        "images=np.reshape(images,(images.shape[0],250, 250,1))\n",
        "\n",
        "import pandas as pd\n",
        " \n",
        "enc_labels=pd.get_dummies(labels)"
      ],
      "execution_count": null,
      "outputs": []
    },
    {
      "cell_type": "code",
      "metadata": {
        "id": "w6pJ1JPL8bgj"
      },
      "source": [
        "from sklearn.model_selection import train_test_split\n",
        " \n",
        "(train_X, test_X, train_y, test_y) = train_test_split(images, enc_labels, test_size=0.20, random_state=42)"
      ],
      "execution_count": null,
      "outputs": []
    },
    {
      "cell_type": "code",
      "metadata": {
        "id": "P_ztRhxl9Vkf"
      },
      "source": [
        "from keras.models import Sequential\n",
        "from keras.layers import Dense,Activation,Flatten,Dropout\n",
        "from keras.layers import Conv2D,MaxPooling2D\n",
        "from tensorflow.keras.regularizers import l2\n",
        " \n",
        "model=Sequential()\n",
        " \n",
        "model.add(Conv2D(64,(3,3),input_shape=(250, 250, 1)))\n",
        "model.add(Activation('relu'))\n",
        "model.add(MaxPooling2D(pool_size=(2,2)))\n",
        " \n",
        "model.add(Conv2D(128,(3,3)))\n",
        "model.add(Activation('relu'))\n",
        "model.add(MaxPooling2D(pool_size=(2,2)))\n",
        " \n",
        "model.add(Conv2D(256,(3,3)))\n",
        "model.add(Activation('relu'))\n",
        "model.add(MaxPooling2D(pool_size=(2,2)))\n",
        " \n",
        "model.add(Flatten())\n",
        "model.add(Dropout(0.3))\n",
        " \n",
        "model.add(Dense(256,activation='relu'))\n",
        " \n",
        "model.add(Dense(128,activation='relu'))\n",
        " \n",
        "model.add(Dense(64,activation='relu'))\n",
        " \n",
        "model.add(Dense(2,kernel_regularizer=l2(0.01),activation='softmax'))\n"
      ],
      "execution_count": null,
      "outputs": []
    },
    {
      "cell_type": "code",
      "metadata": {
        "id": "3tOguRsSmUlT"
      },
      "source": [
        "pip install visualkeras"
      ],
      "execution_count": null,
      "outputs": []
    },
    {
      "cell_type": "code",
      "metadata": {
        "id": "v-JIn5eVluGt"
      },
      "source": [
        "import visualkeras\n",
        "\n",
        "visualkeras.layered_view(model)"
      ],
      "execution_count": null,
      "outputs": []
    },
    {
      "cell_type": "code",
      "metadata": {
        "id": "9wMxAm6LQGxS"
      },
      "source": [
        "import tensorflow\n",
        "checkpoint_path = \"training_1/cp.ckpt\"\n",
        "checkpoint_dir = os.path.dirname(checkpoint_path)\n",
        "\n",
        "batch_size=16\n",
        "\n",
        "# Create a callback that saves the model's weights\n",
        "cp_callback = tensorflow.keras.callbacks.ModelCheckpoint(filepath=checkpoint_path,\n",
        "                                                 save_weights_only=True,\n",
        "                                                 verbose=1,\n",
        "                                                 save_freq=10*batch_size)"
      ],
      "execution_count": null,
      "outputs": []
    },
    {
      "cell_type": "code",
      "metadata": {
        "id": "uy-Ar0ruQPF8"
      },
      "source": [
        "from keras.optimizers import Adam\n",
        "\n",
        "epochs = 50\n",
        "save_freq=10*batch_size\n",
        "model.compile(loss = 'categorical_crossentropy',\n",
        "              optimizer = 'Adam',\n",
        "              metrics = ['accuracy'])\n",
        "\n",
        "fitted_model = model.fit(\n",
        "    train_X,\n",
        "    train_y,\n",
        "    epochs = epochs,\n",
        "    validation_split=0.20,\n",
        "    callbacks=[cp_callback],\n",
        "    verbose=1)"
      ],
      "execution_count": null,
      "outputs": []
    },
    {
      "cell_type": "code",
      "metadata": {
        "colab": {
          "base_uri": "https://localhost:8080/"
        },
        "id": "IiEr2oBwQR-Q",
        "outputId": "0b2dcbaf-66b1-4782-8826-95a3f3c48f95"
      },
      "source": [
        "import tensorflow as tf\n",
        "!ls {checkpoint_dir}\n",
        "latest = tf.train.latest_checkpoint(checkpoint_dir)"
      ],
      "execution_count": null,
      "outputs": [
        {
          "output_type": "stream",
          "text": [
            "checkpoint  cp.ckpt.data-00000-of-00001  cp.ckpt.index\n"
          ],
          "name": "stdout"
        }
      ]
    },
    {
      "cell_type": "code",
      "metadata": {
        "id": "FUow4OhttdEy"
      },
      "source": [
        "from keras.utils.vis_utils import plot_model\n",
        "\n",
        "plot_model(model, to_file='model_plot.png', show_shapes=True, show_layer_names=True)"
      ],
      "execution_count": null,
      "outputs": []
    },
    {
      "cell_type": "code",
      "metadata": {
        "id": "kAKbByzJ9ZjR"
      },
      "source": [
        "'''from keras.optimizers import Adam\n",
        " \n",
        "epochs =50\n",
        " \n",
        "model.compile(loss = 'binary_crossentropy',\n",
        "              optimizer = 'Adam',\n",
        "              metrics = ['accuracy'])"
      ],
      "execution_count": null,
      "outputs": []
    },
    {
      "cell_type": "code",
      "metadata": {
        "id": "iHlrj2rsQBXT"
      },
      "source": [
        "'''import tensorflow\n",
        "checkpoint_path = \"autovai/cp.ckpt\"\n",
        "checkpoint_dir = os.path.dirname(checkpoint_path)\n",
        "\n",
        "# Create a callback that saves the model's weights\n",
        "cp_callback = tensorflow.keras.callbacks.ModelCheckpoint(filepath=checkpoint_path,\n",
        "                                                 save_weights_only=True,\n",
        "                                                 verbose=1)"
      ],
      "execution_count": null,
      "outputs": []
    },
    {
      "cell_type": "code",
      "metadata": {
        "id": "CId65GF1oPhC"
      },
      "source": [
        "'''fitted_model = model.fit(\n",
        "    train_X,\n",
        "    train_y,\n",
        "    epochs = epochs,\n",
        "    validation_split=0.20,\n",
        "    callbacks=[cp_callback],\n",
        "    verbose=1)"
      ],
      "execution_count": null,
      "outputs": []
    },
    {
      "cell_type": "code",
      "metadata": {
        "id": "eJQzKinr64QV"
      },
      "source": [
        "#transfer learning---------------------------------------\n",
        "\n",
        "'''import tensorflow\n",
        "model2=tensorflow.keras.applications.VGG19(include_top=True)\n",
        "\n",
        "base_inputs=model2.layers[0].input\n",
        "base_outputs=model2.layers[-2].output\n",
        "final_output=tensorflow.keras.layers.Dense(2)(base_outputs)\n",
        "\n",
        "new_model=tensorflow.keras.Model(inputs=base_inputs,outputs=final_output)\n",
        "\n",
        "from keras.optimizers import Adam\n",
        " \n",
        "epochs =100\n",
        " \n",
        "new_model.compile(loss = 'binary_crossentropy',\n",
        "                  optimizer = 'Adam',\n",
        "                  metrics = ['accuracy'])\n",
        "\n",
        "new_fitted_model = new_model.fit(\n",
        "    train_X,\n",
        "    train_y,\n",
        "    epochs = epochs,\n",
        "    validation_split=0.20,\n",
        "    #callbacks=[cp_callback],\n",
        "    verbose=1)\n"
      ],
      "execution_count": null,
      "outputs": []
    },
    {
      "cell_type": "code",
      "metadata": {
        "id": "q2KEfNPtQRlg"
      },
      "source": [
        "'''import tensorflow as tf\n",
        "!ls {checkpoint_dir}\n",
        "latest = tf.train.latest_checkpoint(checkpoint_dir)"
      ],
      "execution_count": null,
      "outputs": []
    },
    {
      "cell_type": "code",
      "metadata": {
        "id": "0vkyFr-h9dWs",
        "colab": {
          "base_uri": "https://localhost:8080/",
          "height": 541
        },
        "outputId": "66a7c3a6-4136-4e0e-a5fd-21d9873bff2f"
      },
      "source": [
        "from matplotlib import pyplot as plt\n",
        "# Plot Training and Validation Loss\n",
        "plt.plot(fitted_model.history['loss'],'r',label='Entrainement')\n",
        "plt.plot(fitted_model.history['val_loss'],label='Validation')\n",
        "plt.xlabel('Nombres des Epochs')\n",
        "plt.ylabel('la valeur de perte')\n",
        "plt.legend()\n",
        "plt.grid()\n",
        "plt.show()\n",
        "\n",
        "# Plot Training and Validation Accuracy\n",
        "plt.plot(fitted_model.history['accuracy'],'r',label='Entrainement')\n",
        "plt.plot(fitted_model.history['val_accuracy'],label='Validation')\n",
        "plt.xlabel('Nombres des Epochs')\n",
        "plt.ylabel('la valeur de precision')\n",
        "plt.legend()\n",
        "plt.grid()\n",
        "plt.show()"
      ],
      "execution_count": null,
      "outputs": [
        {
          "output_type": "display_data",
          "data": {
            "image/png": "[encoded data removed]",
            "text/plain": [
              "<Figure size 432x288 with 1 Axes>"
            ]
          },
          "metadata": {
            "tags": [],
            "needs_background": "light"
          }
        },
        {
          "output_type": "display_data",
          "data": {
            "image/png": "[encoded data removed]",
            "text/plain": [
              "<Figure size 432x288 with 1 Axes>"
            ]
          },
          "metadata": {
            "tags": [],
            "needs_background": "light"
          }
        }
      ]
    },
    {
      "cell_type": "code",
      "metadata": {
        "id": "RPNUmjFgqWkH",
        "colab": {
          "base_uri": "https://localhost:8080/"
        },
        "outputId": "eb9f50fe-aa53-487b-a2ed-a3f67476f0c0"
      },
      "source": [
        "print(model.evaluate(test_X,test_y))"
      ],
      "execution_count": null,
      "outputs": [
        {
          "output_type": "stream",
          "text": [
            "7/7 [==============================] - 2s 253ms/step - loss: 1.0609 - accuracy: 0.9367\n",
            "[1.060851812362671, 0.9366515874862671]\n"
          ],
          "name": "stdout"
        }
      ]
    },
    {
      "cell_type": "code",
      "metadata": {
        "id": "ZtxYEpS6AUfb"
      },
      "source": [
        "pred=model.predict(test_X)\n",
        "print(pred)\n",
        "print(test_y)"
      ],
      "execution_count": null,
      "outputs": []
    },
    {
      "cell_type": "code",
      "metadata": {
        "id": "SOKpVeHJT2Ip"
      },
      "source": [
        "pred"
      ],
      "execution_count": null,
      "outputs": []
    },
    {
      "cell_type": "code",
      "metadata": {
        "id": "K19RBa56FbMa"
      },
      "source": [
        "z=test_y['aug_good']-pred[:,1]\n",
        "j=0\n",
        "for i in z:\n",
        "  if i==-1:\n",
        "    j=j+1\n",
        "\n",
        "print(len(z))\n"
      ],
      "execution_count": null,
      "outputs": []
    },
    {
      "cell_type": "code",
      "metadata": {
        "id": "2-7jeWcuKlLW"
      },
      "source": [
        "from google.colab.patches import cv2_imshow\n",
        "cv2_imshow(images[73])"
      ],
      "execution_count": null,
      "outputs": []
    },
    {
      "cell_type": "code",
      "metadata": {
        "id": "48fBJ3jlGKOm"
      },
      "source": [
        ""
      ],
      "execution_count": null,
      "outputs": []
    },
    {
      "cell_type": "code",
      "metadata": {
        "id": "mOidQl1nJDiT"
      },
      "source": [
        "text_dict={0:'defected' , 1:'non defected'}"
      ],
      "execution_count": null,
      "outputs": []
    },
    {
      "cell_type": "code",
      "metadata": {
        "id": "9dO6dyzpI3hx"
      },
      "source": [
        "im=cv2.imread('/content/drive/MyDrive/autovai_testimages/good.jpg')\n",
        "grayscale_img=cv2.cvtColor(im,cv2.COLOR_BGR2GRAY)\n",
        "\n",
        "resized_img=cv2.resize(grayscale_img,(250, 250))\n",
        "denoise_img=cv2.fastNlMeansDenoising(resized_img)\n",
        "ret,img=cv2.threshold(resized_img,145,255,cv2.THRESH_BINARY_INV)\n",
        " \n",
        "closing = cv2.morphologyEx(img, cv2.MORPH_CLOSE, kernel)\n",
        "imags=[]\n",
        "imags.append(closing)\n",
        "imags=np.array(imags)\n",
        "imags=np.reshape(imags,(imags.shape[0],250, 250,1))"
      ],
      "execution_count": null,
      "outputs": []
    },
    {
      "cell_type": "code",
      "metadata": {
        "id": "mpTbvv5lJCRj"
      },
      "source": [
        "from google.colab.patches import cv2_imshow\n",
        "\n",
        "cv2_imshow(imags[0])\n",
        "cv2_imshow(resized_img)\n"
      ],
      "execution_count": null,
      "outputs": []
    },
    {
      "cell_type": "code",
      "metadata": {
        "id": "jHrwJRLNIu58"
      },
      "source": [
        "predictions=model.predict(imags)\n",
        "predictions=np.argmax(predictions)\n",
        "label=predictions\n",
        " \n",
        "prediction=(text_dict[label])\n",
        " \n",
        "print(prediction)"
      ],
      "execution_count": null,
      "outputs": []
    }
  ]
}